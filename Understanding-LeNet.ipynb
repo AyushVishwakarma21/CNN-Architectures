{
 "cells": [
  {
   "cell_type": "code",
   "execution_count": 1,
   "id": "a6fafbcd",
   "metadata": {
    "_cell_guid": "b1076dfc-b9ad-4769-8c92-a6c4dae69d19",
    "_uuid": "8f2839f25d086af736a60e9eeb907d3b93b6e0e5",
    "execution": {
     "iopub.execute_input": "2025-09-13T06:34:37.642452Z",
     "iopub.status.busy": "2025-09-13T06:34:37.642155Z",
     "iopub.status.idle": "2025-09-13T06:34:39.204153Z",
     "shell.execute_reply": "2025-09-13T06:34:39.203360Z"
    },
    "papermill": {
     "duration": 1.567687,
     "end_time": "2025-09-13T06:34:39.205557",
     "exception": false,
     "start_time": "2025-09-13T06:34:37.637870",
     "status": "completed"
    },
    "tags": []
   },
   "outputs": [],
   "source": [
    "# This Python 3 environment comes with many helpful analytics libraries installed\n",
    "# It is defined by the kaggle/python Docker image: https://github.com/kaggle/docker-python\n",
    "# For example, here's several helpful packages to load\n",
    "\n",
    "import numpy as np # linear algebra\n",
    "import pandas as pd # data processing, CSV file I/O (e.g. pd.read_csv)\n",
    "\n",
    "# Input data files are available in the read-only \"../input/\" directory\n",
    "# For example, running this (by clicking run or pressing Shift+Enter) will list all files under the input directory\n",
    "\n",
    "import os\n",
    "for dirname, _, filenames in os.walk('/kaggle/input'):\n",
    "    for filename in filenames:\n",
    "        print(os.path.join(dirname, filename))\n",
    "\n",
    "# You can write up to 20GB to the current directory (/kaggle/working/) that gets preserved as output when you create a version using \"Save & Run All\" \n",
    "# You can also write temporary files to /kaggle/temp/, but they won't be saved outside of the current session"
   ]
  },
  {
   "cell_type": "code",
   "execution_count": 2,
   "id": "a8c249bb",
   "metadata": {
    "execution": {
     "iopub.execute_input": "2025-09-13T06:34:39.211873Z",
     "iopub.status.busy": "2025-09-13T06:34:39.211518Z",
     "iopub.status.idle": "2025-09-13T06:34:49.016458Z",
     "shell.execute_reply": "2025-09-13T06:34:49.015850Z"
    },
    "papermill": {
     "duration": 9.809402,
     "end_time": "2025-09-13T06:34:49.017916",
     "exception": false,
     "start_time": "2025-09-13T06:34:39.208514",
     "status": "completed"
    },
    "tags": []
   },
   "outputs": [],
   "source": [
    "import torch \n",
    "import torch.nn as nn\n",
    "import torchvision \n",
    "import torch.nn.functional as F"
   ]
  },
  {
   "cell_type": "code",
   "execution_count": 3,
   "id": "80d4d4ec",
   "metadata": {
    "execution": {
     "iopub.execute_input": "2025-09-13T06:34:49.024582Z",
     "iopub.status.busy": "2025-09-13T06:34:49.023855Z",
     "iopub.status.idle": "2025-09-13T06:34:49.029666Z",
     "shell.execute_reply": "2025-09-13T06:34:49.028973Z"
    },
    "papermill": {
     "duration": 0.01021,
     "end_time": "2025-09-13T06:34:49.030937",
     "exception": false,
     "start_time": "2025-09-13T06:34:49.020727",
     "status": "completed"
    },
    "tags": []
   },
   "outputs": [],
   "source": [
    "# Structure of LeNet5\n",
    "class LeNet5(nn.Module):\n",
    "    def __init__(self):\n",
    "        super(LeNet5,self).__init__()\n",
    "        self.conv1 = nn.Conv2d(1,6,kernel_size=5,padding=2)\n",
    "        self.pool1 = nn.AvgPool2d(2,2)\n",
    "        self.conv2 = nn.Conv2d(6,16,kernel_size=5)\n",
    "        self.pool2 = nn.AvgPool2d(2,2)\n",
    "        self.conv3 = nn.Conv2d(16,120,kernel_size=5)\n",
    "        self.fc1 = nn.Linear(120,84)\n",
    "        self.fc2 = nn.Linear(84,10)\n",
    "\n",
    "    def forward(self,x):\n",
    "        x = F.relu(self.conv1(x))\n",
    "        x = self.pool1(x)\n",
    "        x = F.relu(self.conv2(x))\n",
    "        x = self.pool2(x)\n",
    "        x = F.relu(self.conv3(x))\n",
    "        x = torch.flatten(x,1)\n",
    "        x = F.relu(self.fc1(x))\n",
    "        x = self.fc2(x)\n",
    "        return x"
   ]
  },
  {
   "cell_type": "markdown",
   "id": "c9d4275a",
   "metadata": {
    "papermill": {
     "duration": 0.002123,
     "end_time": "2025-09-13T06:34:49.035597",
     "exception": false,
     "start_time": "2025-09-13T06:34:49.033474",
     "status": "completed"
    },
    "tags": []
   },
   "source": [
    "## Training on MNIST"
   ]
  },
  {
   "cell_type": "code",
   "execution_count": 4,
   "id": "16435d00",
   "metadata": {
    "execution": {
     "iopub.execute_input": "2025-09-13T06:34:49.041772Z",
     "iopub.status.busy": "2025-09-13T06:34:49.041076Z",
     "iopub.status.idle": "2025-09-13T06:34:49.045220Z",
     "shell.execute_reply": "2025-09-13T06:34:49.044502Z"
    },
    "papermill": {
     "duration": 0.008436,
     "end_time": "2025-09-13T06:34:49.046328",
     "exception": false,
     "start_time": "2025-09-13T06:34:49.037892",
     "status": "completed"
    },
    "tags": []
   },
   "outputs": [],
   "source": [
    "import torchvision.transforms as transforms\n",
    "from torch.utils.data import DataLoader"
   ]
  },
  {
   "cell_type": "code",
   "execution_count": 5,
   "id": "6288c59c",
   "metadata": {
    "execution": {
     "iopub.execute_input": "2025-09-13T06:34:49.052385Z",
     "iopub.status.busy": "2025-09-13T06:34:49.052005Z",
     "iopub.status.idle": "2025-09-13T06:34:49.056012Z",
     "shell.execute_reply": "2025-09-13T06:34:49.055217Z"
    },
    "papermill": {
     "duration": 0.008527,
     "end_time": "2025-09-13T06:34:49.057270",
     "exception": false,
     "start_time": "2025-09-13T06:34:49.048743",
     "status": "completed"
    },
    "tags": []
   },
   "outputs": [],
   "source": [
    "transform = transforms.Compose([\n",
    "    transforms.ToTensor(),\n",
    "    transforms.Normalize((0.5,),(0.5,))\n",
    "])"
   ]
  },
  {
   "cell_type": "code",
   "execution_count": 6,
   "id": "4f490506",
   "metadata": {
    "execution": {
     "iopub.execute_input": "2025-09-13T06:34:49.063417Z",
     "iopub.status.busy": "2025-09-13T06:34:49.062746Z",
     "iopub.status.idle": "2025-09-13T06:34:52.850998Z",
     "shell.execute_reply": "2025-09-13T06:34:52.850153Z"
    },
    "papermill": {
     "duration": 3.792626,
     "end_time": "2025-09-13T06:34:52.852432",
     "exception": false,
     "start_time": "2025-09-13T06:34:49.059806",
     "status": "completed"
    },
    "tags": []
   },
   "outputs": [
    {
     "name": "stderr",
     "output_type": "stream",
     "text": [
      "100%|██████████| 9.91M/9.91M [00:00<00:00, 18.0MB/s]\n",
      "100%|██████████| 28.9k/28.9k [00:00<00:00, 481kB/s]\n",
      "100%|██████████| 1.65M/1.65M [00:00<00:00, 4.45MB/s]\n",
      "100%|██████████| 4.54k/4.54k [00:00<00:00, 6.80MB/s]\n"
     ]
    }
   ],
   "source": [
    "trainset = torchvision.datasets.MNIST(root='./data',train=True,\n",
    "                                     download=True,transform=transform)\n",
    "testset = torchvision.datasets.MNIST(root='./data',train=False,\n",
    "                                     download=True,transform=transform)\n",
    "\n",
    "train_loader = DataLoader(trainset,batch_size=64,shuffle=True)\n",
    "test_loader = DataLoader(testset,batch_size=1000,shuffle=False)"
   ]
  },
  {
   "cell_type": "code",
   "execution_count": 7,
   "id": "cd5c0cdc",
   "metadata": {
    "execution": {
     "iopub.execute_input": "2025-09-13T06:34:52.860218Z",
     "iopub.status.busy": "2025-09-13T06:34:52.860020Z",
     "iopub.status.idle": "2025-09-13T06:34:52.870570Z",
     "shell.execute_reply": "2025-09-13T06:34:52.870103Z"
    },
    "papermill": {
     "duration": 0.01544,
     "end_time": "2025-09-13T06:34:52.871601",
     "exception": false,
     "start_time": "2025-09-13T06:34:52.856161",
     "status": "completed"
    },
    "tags": []
   },
   "outputs": [],
   "source": [
    "model=  LeNet5()\n",
    "criterion = nn.CrossEntropyLoss()\n",
    "optimizer = torch.optim.SGD(model.parameters(),lr=0.01,momentum=0.9)"
   ]
  },
  {
   "cell_type": "code",
   "execution_count": 8,
   "id": "e0547a17",
   "metadata": {
    "execution": {
     "iopub.execute_input": "2025-09-13T06:34:52.878551Z",
     "iopub.status.busy": "2025-09-13T06:34:52.878305Z",
     "iopub.status.idle": "2025-09-13T06:36:36.857248Z",
     "shell.execute_reply": "2025-09-13T06:36:36.856520Z"
    },
    "papermill": {
     "duration": 103.983864,
     "end_time": "2025-09-13T06:36:36.858541",
     "exception": false,
     "start_time": "2025-09-13T06:34:52.874677",
     "status": "completed"
    },
    "tags": []
   },
   "outputs": [
    {
     "name": "stdout",
     "output_type": "stream",
     "text": [
      "Epoch [1/5] Train Loss: 0.5610 | Train Acc: 80.67% | Test Acc: 96.68%\n",
      "Epoch [2/5] Train Loss: 0.0934 | Train Acc: 97.10% | Test Acc: 97.97%\n",
      "Epoch [3/5] Train Loss: 0.0632 | Train Acc: 98.07% | Test Acc: 98.32%\n",
      "Epoch [4/5] Train Loss: 0.0502 | Train Acc: 98.46% | Test Acc: 98.52%\n",
      "Epoch [5/5] Train Loss: 0.0405 | Train Acc: 98.75% | Test Acc: 98.29%\n"
     ]
    }
   ],
   "source": [
    "total_epoch = 5\n",
    "\n",
    "for epoch in range(total_epoch):\n",
    "    model.train()\n",
    "    running_loss =0\n",
    "    correct = 0\n",
    "    total = 0\n",
    "\n",
    "    for images,labels in train_loader:\n",
    "        optimizer.zero_grad()\n",
    "        outputs = model(images)\n",
    "        loss = criterion(outputs,labels)\n",
    "        loss.backward()\n",
    "        optimizer.step()\n",
    "\n",
    "        running_loss +=loss.item()*images.size(0)\n",
    "        _, predicted = outputs.max(1)\n",
    "        total += labels.size(0)\n",
    "        correct += predicted.eq(labels).sum().item()\n",
    "    train_loss = running_loss /len(train_loader.dataset)\n",
    "    train_acc = 100* correct / total\n",
    "\n",
    "\n",
    "    model.eval()\n",
    "    test_correct = 0\n",
    "    test_total = 0\n",
    "    with torch.no_grad():\n",
    "        for images,labels in test_loader:\n",
    "            outputs = model(images)\n",
    "            _,predicted = outputs.max(1)\n",
    "            test_total += labels.size(0)\n",
    "            test_correct += predicted.eq(labels).sum().item()\n",
    "    test_acc = 100* test_correct / test_total\n",
    "\n",
    "    print(f\"Epoch [{epoch+1}/{total_epoch}] \"\n",
    "          f\"Train Loss: {train_loss:.4f} | \"\n",
    "          f\"Train Acc: {train_acc:.2f}% | \"\n",
    "          f\"Test Acc: {test_acc:.2f}%\"\n",
    "            )"
   ]
  },
  {
   "cell_type": "code",
   "execution_count": null,
   "id": "9ebf49b8",
   "metadata": {
    "papermill": {
     "duration": 0.003086,
     "end_time": "2025-09-13T06:36:36.866280",
     "exception": false,
     "start_time": "2025-09-13T06:36:36.863194",
     "status": "completed"
    },
    "tags": []
   },
   "outputs": [],
   "source": []
  },
  {
   "cell_type": "markdown",
   "id": "bc2f1ce7",
   "metadata": {
    "papermill": {
     "duration": 0.003086,
     "end_time": "2025-09-13T06:36:36.872650",
     "exception": false,
     "start_time": "2025-09-13T06:36:36.869564",
     "status": "completed"
    },
    "tags": []
   },
   "source": [
    "## Visualization"
   ]
  },
  {
   "cell_type": "code",
   "execution_count": 9,
   "id": "776b15f7",
   "metadata": {
    "execution": {
     "iopub.execute_input": "2025-09-13T06:36:36.880559Z",
     "iopub.status.busy": "2025-09-13T06:36:36.880041Z",
     "iopub.status.idle": "2025-09-13T06:36:37.296453Z",
     "shell.execute_reply": "2025-09-13T06:36:37.295715Z"
    },
    "papermill": {
     "duration": 0.421655,
     "end_time": "2025-09-13T06:36:37.297543",
     "exception": false,
     "start_time": "2025-09-13T06:36:36.875888",
     "status": "completed"
    },
    "tags": []
   },
   "outputs": [
    {
     "data": {
      "image/png": "[encoded data removed]",
      "text/plain": [
       "<Figure size 600x400 with 6 Axes>"
      ]
     },
     "metadata": {},
     "output_type": "display_data"
    }
   ],
   "source": [
    "import matplotlib.pyplot as plt\n",
    "\n",
    "# Get first convolutional layer weights\n",
    "filters = model.conv1.weight.data.clone()\n",
    "\n",
    "fig, axes = plt.subplots(2, 3, figsize=(6, 4))\n",
    "axes = axes.flatten()\n",
    "\n",
    "for i in range(6):  # LeNet conv1 has 6 filters\n",
    "    axes[i].imshow(filters[i, 0, :, :], cmap='gray')\n",
    "    axes[i].set_title(f\"Filter {i+1}\")\n",
    "    axes[i].axis('off')\n",
    "\n",
    "plt.tight_layout()\n",
    "plt.show()\n"
   ]
  },
  {
   "cell_type": "code",
   "execution_count": 10,
   "id": "82bfd31c",
   "metadata": {
    "execution": {
     "iopub.execute_input": "2025-09-13T06:36:37.305599Z",
     "iopub.status.busy": "2025-09-13T06:36:37.305366Z",
     "iopub.status.idle": "2025-09-13T06:36:37.779744Z",
     "shell.execute_reply": "2025-09-13T06:36:37.778930Z"
    },
    "papermill": {
     "duration": 0.479898,
     "end_time": "2025-09-13T06:36:37.781079",
     "exception": false,
     "start_time": "2025-09-13T06:36:37.301181",
     "status": "completed"
    },
    "tags": []
   },
   "outputs": [
    {
     "data": {
      "image/png": "[encoded data removed]",
      "text/plain": [
       "<Figure size 600x400 with 6 Axes>"
      ]
     },
     "metadata": {},
     "output_type": "display_data"
    }
   ],
   "source": [
    "# Take one image from test set\n",
    "images, _ = next(iter(test_loader))\n",
    "image = images[0].unsqueeze(0)  # shape [1,1,28,28]\n",
    "\n",
    "# Pass through first conv layer\n",
    "with torch.no_grad():\n",
    "    feature_maps = model.conv1(image)\n",
    "\n",
    "fig, axes = plt.subplots(2, 3, figsize=(6, 4))\n",
    "axes = axes.flatten()\n",
    "\n",
    "for i in range(6):\n",
    "    axes[i].imshow(feature_maps[0, i].numpy(), cmap='gray')\n",
    "    axes[i].set_title(f\"Feature Map {i+1}\")\n",
    "    axes[i].axis('off')\n",
    "\n",
    "plt.tight_layout()\n",
    "plt.show()\n"
   ]
  },
  {
   "cell_type": "code",
   "execution_count": 11,
   "id": "1ac086c6",
   "metadata": {
    "execution": {
     "iopub.execute_input": "2025-09-13T06:36:37.790472Z",
     "iopub.status.busy": "2025-09-13T06:36:37.790237Z",
     "iopub.status.idle": "2025-09-13T06:36:38.683868Z",
     "shell.execute_reply": "2025-09-13T06:36:38.682838Z"
    },
    "papermill": {
     "duration": 0.899788,
     "end_time": "2025-09-13T06:36:38.685306",
     "exception": false,
     "start_time": "2025-09-13T06:36:37.785518",
     "status": "completed"
    },
    "tags": []
   },
   "outputs": [
    {
     "name": "stdout",
     "output_type": "stream",
     "text": [
      "Conv2 feature map shape: torch.Size([1, 16, 10, 10])\n"
     ]
    },
    {
     "data": {
      "image/png": "[encoded data removed]",
      "text/plain": [
       "<Figure size 1000x400 with 10 Axes>"
      ]
     },
     "metadata": {},
     "output_type": "display_data"
    }
   ],
   "source": [
    "# Get one image from test set\n",
    "images, _ = next(iter(test_loader))\n",
    "image = images[0].unsqueeze(0)  # shape [1,1,28,28]\n",
    "\n",
    "# Pass through Conv1 → ReLU → Pool → Conv2\n",
    "with torch.no_grad():\n",
    "    x = torch.relu(model.conv1(image))  # Apply the first convolution\n",
    "    x = model.pool1(x)  # Apply the first pooling layer\n",
    "    feature_maps_conv2 = model.conv2(x)  # Apply the second convolution\n",
    "    x = model.pool2(feature_maps_conv2)\n",
    "\n",
    "print(\"Conv2 feature map shape:\", feature_maps_conv2.shape)\n",
    "\n",
    "# Plot first 10 feature maps (there are 16 in LeNet conv2)\n",
    "import matplotlib.pyplot as plt\n",
    "\n",
    "fig, axes = plt.subplots(2, 5, figsize=(10, 4))\n",
    "axes = axes.flatten()\n",
    "\n",
    "for i in range(10):\n",
    "    axes[i].imshow(feature_maps_conv2[0, i].numpy(), cmap='gray')\n",
    "    axes[i].set_title(f\"Map {i+1}\")\n",
    "    axes[i].axis('off')\n",
    "\n",
    "plt.tight_layout()\n",
    "plt.show()\n"
   ]
  },
  {
   "cell_type": "code",
   "execution_count": null,
   "id": "eeaf6192",
   "metadata": {
    "papermill": {
     "duration": 0.007017,
     "end_time": "2025-09-13T06:36:38.698321",
     "exception": false,
     "start_time": "2025-09-13T06:36:38.691304",
     "status": "completed"
    },
    "tags": []
   },
   "outputs": [],
   "source": []
  }
 ],
 "metadata": {
  "kaggle": {
   "accelerator": "nvidiaTeslaT4",
   "dataSources": [],
   "dockerImageVersionId": 31090,
   "isGpuEnabled": true,
   "isInternetEnabled": true,
   "language": "python",
   "sourceType": "notebook"
  },
  "kernelspec": {
   "display_name": "Python 3",
   "language": "python",
   "name": "python3"
  },
  "language_info": {
   "codemirror_mode": {
    "name": "ipython",
    "version": 3
   },
   "file_extension": ".py",
   "mimetype": "text/x-python",
   "name": "python",
   "nbconvert_exporter": "python",
   "pygments_lexer": "ipython3",
   "version": "3.11.13"
  },
  "papermill": {
   "default_parameters": {},
   "duration": 127.313711,
   "end_time": "2025-09-13T06:36:40.531942",
   "environment_variables": {},
   "exception": null,
   "input_path": "__notebook__.ipynb",
   "output_path": "__notebook__.ipynb",
   "parameters": {},
   "start_time": "2025-09-13T06:34:33.218231",
   "version": "2.6.0"
  }
 },
 "nbformat": 4,
 "nbformat_minor": 5
}
